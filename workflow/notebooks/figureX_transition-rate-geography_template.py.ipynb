{
 "cells": [
  {
   "cell_type": "code",
   "execution_count": null,
   "metadata": {
    "collapsed": true
   },
   "outputs": [],
   "source": [
    "import pandas as pd\n",
    "import matplotlib as mpl\n",
    "import geopandas as gpd\n",
    "import numpy as np\n",
    "import matplotlib.pyplot as plt\n",
    "from matplotlib.lines import Line2D\n",
    "import networkx as nx\n",
    "from utils import timeseries_formatting, basic_formatting, dec_to_date, hpd, _toYearFraction\n",
    "\n",
    "prop = mpl.font_manager.FontProperties('Roboto')\n",
    "mpl.rcParams['font.sans-serif'] = prop.get_name()\n",
    "mpl.rcParams['font.family'] = 'sans-serif'\n",
    "mpl.rcParams['font.weight']=300\n",
    "mpl.rcParams['axes.labelweight']=300\n",
    "mpl.rcParams['font.size']=16\n",
    "\n",
    "COLOR = '#343434'\n",
    "mpl.rcParams['text.color'] = COLOR\n",
    "mpl.rcParams['axes.labelcolor'] = COLOR\n",
    "mpl.rcParams['xtick.color'] = COLOR\n",
    "mpl.rcParams['ytick.color'] = COLOR\n",
    "mpl.rcParams[\"axes.facecolor\"] = \"white\"\n",
    "\n",
    "cmap = {\n",
    "    \"South\" : \"#fbb4ae\",\n",
    "    \"Midwest\" : \"#b3cde3\",\n",
    "    \"NorthEast\" : \"#ccebc5\",\n",
    "    \"West\" : \"#decbe4\"\n",
    "}\n",
    "\n",
    "cmap_unsat = {\n",
    "    \"South\" : \"#e41a1c\",\n",
    "    \"Midwest\" : \"#377eb8\",\n",
    "    \"NorthEast\" : \"#4daf4a\",\n",
    "    \"West\" : \"#984ea3\",\n",
    "}"
   ]
  },
  {
   "cell_type": "markdown",
   "source": [
    "### Figure X: Regional differences in West Nile virus transition rate\n",
    "Using the discrete state reconstruction, we use the estimated transition rates to identify regional clustering of West Nile virus."
   ],
   "metadata": {
    "collapsed": false
   }
  },
  {
   "cell_type": "markdown",
   "source": [
    "First we load in the US map which will be used for plotting purposes."
   ],
   "metadata": {
    "collapsed": false
   }
  },
  {
   "cell_type": "code",
   "execution_count": null,
   "outputs": [],
   "source": [
    "trait_counts = pd.read_csv( snakemake.input.traits, sep=\"\\t\")[\"state\"].value_counts()\n",
    "trait_counts.head()\n",
    "\n",
    "regions = {\n",
    "    \"NorthEast\": [\"Connecticut\", \"Massachusetts\", \"RhodeIsland\", \"NewJersey\", \"NewYork\", \"Pennsylvania\",\n",
    "                  \"NewHampshire\", \"Vermont\", \"Maine\" ],\n",
    "    \"South\": [\"DistrictofColumbia\", \"Delaware\", \"Florida\", \"Louisiana\", \"Georgia\", \"Maryland\", \"NorthCarolina\", \"SouthCarolina\", \"Virginia\",\n",
    "              \"Alabama\", \"Kentucky\", \"WestVirginia\", \"Mississippi\", \"Tennessee\", \"Arkansas\", \"Oklahoma\", \"Texas\",\n",
    "              \"VirginIslands\"],\n",
    "    \"Midwest\": [\"Illinois\", \"Michigan\", \"Ohio\", \"Wisconsin\", \"Iowa\", \"Kansas\", \"Minnesota\", \"Missouri\",\n",
    "                \"Nebraska\", \"Indiana\", \"NorthDakota\", \"SouthDakota\"],\n",
    "    \"West\": [\"Arizona\", \"Idaho\", \"Colorado\", \"Montana\", \"Nevada\", \"NewMexico\", \"California\", \"Oregon\",\n",
    "             \"Washington\", \"Utah\", \"Wyoming\",]\n",
    "}\n",
    "\n",
    "us = gpd.read_file( snakemake.params.us_map )\n",
    "us = us[[\"NAME\", \"geometry\"]]\n",
    "us[\"NAME\"] = us[\"NAME\"].str.replace( \" \", \"\" )\n",
    "for reg, states in regions.items():\n",
    "    us.loc[us[\"NAME\"].isin( states ),\"region\"] = reg\n",
    "us = us.loc[~us[\"region\"].isna()]\n",
    "us = us.to_crs( \"EPSG:2163\" )\n",
    "\n",
    "# Identify centroids of each state and region for plotting purposes\n",
    "us[\"centroid.x\"] = us[\"geometry\"].centroid.x\n",
    "us[\"centroid.y\"] = us[\"geometry\"].centroid.y\n",
    "georeg = us.dissolve( \"region\" )\n",
    "georeg[\"centroid.x\"] = georeg[\"geometry\"].centroid.x\n",
    "georeg[\"centroid.y\"] = georeg[\"geometry\"].centroid.y\n",
    "\n",
    "# Create dictionary mapping each state and region to its centroid. Necessary for networkX plotting\n",
    "# Manually specify the location of Other, Midwest, and NorthEast so they don't clash with states centroids.\n",
    "pos_dict = dict()\n",
    "for _, row in us.iterrows():\n",
    "    pos_dict[row[\"NAME\"]] = (row[\"centroid.x\"], row[\"centroid.y\"] )\n",
    "for reg, row in georeg.iterrows():\n",
    "    pos_dict[reg] = (row[\"centroid.x\"], row[\"centroid.y\"] )\n",
    "pos_dict[\"Other\"] = (-635174.467, -1611168.826)\n",
    "pos_dict[\"Midwest\"] =  (259909.909, -252712.408)\n",
    "pos_dict[\"NorthEast\"] = (2080618.217, -242742.572)\n",
    "\n",
    "# To indicate states without any sequencing data.\n",
    "present = pd.read_csv( snakemake.input.traits, sep=\"\\t\" )[\"taxon\"].apply( lambda x: x.split( \"|\" )[2].split( \"-\" )[0] ).unique()\n",
    "us[\"mask\"] = 1\n",
    "us.loc[~us[\"NAME\"].isin(present),\"mask\"] = 0\n",
    "\n",
    "us.head()"
   ],
   "metadata": {
    "collapsed": false
   }
  },
  {
   "cell_type": "markdown",
   "source": [
    "We next load in the posterior distribution of discrete transitions."
   ],
   "metadata": {
    "collapsed": false
   }
  },
  {
   "cell_type": "code",
   "execution_count": null,
   "outputs": [],
   "source": [
    "log = pd.read_csv( snakemake.input.log, header=3, sep=\"\\t\" )\n",
    "log = log.loc[log[\"state\"]>snakemake.params.burnin]\n",
    "log.head()"
   ],
   "metadata": {
    "collapsed": false
   }
  },
  {
   "cell_type": "markdown",
   "source": [
    "Accordingly, we mask transition rates that were not included in the likelihood calculate for that particular draw of the MCMC. These are transition rates with an indicator of 0. To determine which rates are significant for the final network, we calculate their Bayes Factor for inclusion."
   ],
   "metadata": {
    "collapsed": false
   }
  },
  {
   "cell_type": "code",
   "execution_count": null,
   "outputs": [],
   "source": [
    "pairs = log.columns[log.columns.str.startswith( \"Location.rates\" )].str.slice(15)\n",
    "for pair in pairs:\n",
    "    log.loc[~log[f\"Location.indicators.{pair}\"].astype( bool ),f\"Location.rates.{pair}\"] = None\n",
    "\n",
    "rates = log[log.columns[log.columns.str.startswith( \"Location.rates\" )]]\n",
    "rates = rates.describe( percentiles=[0.025, 0.5, 0.975])\n",
    "rates = rates.T.reset_index()\n",
    "rates[[\"start\", \"end\"]] = rates[\"index\"].str.slice(15).str.split( \".\", n=1, expand=True)\n",
    "rates = rates.drop( columns=[\"index\", \"mean\", \"std\", \"min\", \"max\"] )\n",
    "rates.sort_values( \"count\", ascending=False  ).head(10)\n",
    "\n",
    "# Calculate inverse rate for closeness centrality.\n",
    "rates[\"inv\"] = 1 / rates[\"50%\"]\n",
    "\n",
    "# Calculate Bayes factor for each transitions rate.\n",
    "n = np.log(2)\n",
    "k = len( trait_counts )\n",
    "qk = (n + k - 1)/(k * (k-1) / 2)\n",
    "draws = log.shape[0]\n",
    "rates[\"bayes_factor\"] = ((rates[\"count\"] / draws) * (1-qk)) / ((1 - (rates[\"count\"] / draws)) * qk )\n",
    "rates.head()"
   ],
   "metadata": {
    "collapsed": false
   }
  },
  {
   "cell_type": "markdown",
   "source": [
    "We next generate a network, where regions and states and nodes, and they're connected by edges representing transitions rates. Only transitions rates with a Bayes Factor > {snakemake.params.minimum_BF} are included.\n",
    "\n",
    "We plot this network on top of the map. This generates Figure X."
   ],
   "metadata": {
    "collapsed": false
   }
  },
  {
   "cell_type": "code",
   "execution_count": null,
   "outputs": [],
   "source": [
    "g95 = nx.from_pandas_edgelist( rates.loc[rates[\"bayes_factor\"]>snakemake.params.minimum_BF], source=\"start\", target=\"end\", edge_attr=[\"50%\",\"inv\"] )\n",
    "\n",
    "fig, ax = plt.subplots( dpi=200, figsize=(8,6) )\n",
    "for reg, shapes in us.groupby( \"region\" ):\n",
    "    shapes.plot( color=cmap[reg], edgecolor=\"white\", ax=ax, zorder=1, linewidth=1 )\n",
    "    shapes.loc[shapes[\"mask\"]==0].plot( color=cmap[reg], edgecolor=\"white\", hatch=\"//////\", linewidth=0.5, zorder=2, ax=ax )\n",
    "\n",
    "nodes = nx.draw_networkx_nodes( g95, pos_dict, nodelist=[i for i in g95.nodes if i not in cmap], node_size=50, node_color=\"white\", edgecolors=\"black\", linewidths=0.75, ax=ax )\n",
    "nodes.set_zorder(10)\n",
    "nodes = nx.draw_networkx_nodes( g95, pos_dict, nodelist=cmap.keys(), node_shape=\"s\", node_size=50, node_color=\"white\", edgecolors=\"black\", linewidths=0.75, ax=ax )\n",
    "nodes.set_zorder(10)\n",
    "\n",
    "rad = -0.3\n",
    "for source, target in g95.edges():\n",
    "    ax.annotate(\n",
    "        \"\",\n",
    "        xy=pos_dict[source],\n",
    "        xytext=pos_dict[target],\n",
    "        zorder=9,\n",
    "        arrowprops={\n",
    "            \"lw\" : g95.edges[(source, target)][\"50%\"]+1,\n",
    "            \"arrowstyle\" : \"-\",\n",
    "            \"color\" : \"black\",\n",
    "            \"connectionstyle\" : f\"arc3,rad={rad}\",\n",
    "            \"linestyle\" : '-',\n",
    "            \"alpha\" : 0.75\n",
    "        }\n",
    "    )\n",
    "    rad *= -1\n",
    "\n",
    "legend = [\n",
    "    Line2D([0], [0], linestyle='-', marker=None, color=\"black\", label=\"1\", markersize=0, linewidth=2 ),\n",
    "    Line2D([0], [0], linestyle='-', marker=None, color=\"black\", label=\"2\", markersize=0, linewidth=3 ),\n",
    "    Line2D([0], [0], linestyle='-', marker=None, color=\"black\", label=\"3\", markersize=0, linewidth=4 ),\n",
    "    Line2D([0], [0], linestyle='-', marker=None, color=\"black\", label=\"4\", markersize=0, linewidth=5 ),\n",
    "]\n",
    "\n",
    "ax.legend(title=\"Transitions / year\", handles=legend, loc=\"lower left\", handletextpad=0.5, frameon=False, title_fontsize=8, fontsize=8, handlelength=1 )\n",
    "[ax.spines[j].set_visible( False ) for j in ax.spines]\n",
    "\n",
    "fig.tight_layout()\n",
    "fig.savefig( snakemake.output.map_figure )\n",
    "plt.show()"
   ],
   "metadata": {
    "collapsed": false
   }
  },
  {
   "cell_type": "markdown",
   "source": [
    "Next we calculate, for each state, their closeness centrality and total transition rate. Closeness centrality is the mean distance between a state and all other states. This metric is useful because the graph is incomplete, and closeness centrality will find the shortest path between each node. Distance in this case is the inverse of the transition rate (estimated number of years between transitions). Total transition rate is just the sum of transition rates including the state that are included in the model. Both these metrics are calculated across the entire posterior distribution."
   ],
   "metadata": {
    "collapsed": false
   }
  },
  {
   "cell_type": "code",
   "execution_count": null,
   "outputs": [],
   "source": [
    "cc = list()\n",
    "rs = list()\n",
    "for row, df in log.iterrows():\n",
    "    temp = df.reset_index()\n",
    "    temp.columns = [\"var\", \"value\"]\n",
    "    temp = temp.loc[temp[\"var\"].str.startswith( \"Location.rates\")]\n",
    "    temp[[\"start\", \"end\"]] = temp[\"var\"].str.slice(15).str.split( \".\", n=1, expand=True)\n",
    "    temp = temp.dropna()\n",
    "    temp[\"inv\"] = 1 / temp[\"value\"]\n",
    "    tempG = nx.from_pandas_edgelist( temp, source=\"start\", target=\"end\", edge_attr=[\"value\",\"inv\"] )\n",
    "\n",
    "    temp_rates = dict()\n",
    "    for node in tempG.nodes():\n",
    "        temp_rates[node] = sum( tempG.edges[edge][\"value\"] for edge in tempG.edges( node ) )\n",
    "\n",
    "    tempCC = nx.closeness_centrality( tempG, distance=\"inv\" )\n",
    "    cc.append( pd.DataFrame( tempCC, index=[row] ) )\n",
    "    rs.append( pd.DataFrame( temp_rates, index=[row] ) )\n",
    "\n",
    "cc = pd.concat( cc )\n",
    "rs = pd.concat( rs )\n",
    "cc.head()"
   ],
   "metadata": {
    "collapsed": false
   }
  },
  {
   "cell_type": "markdown",
   "source": [
    "First we plot each locations' closeness centrality. This will be figure X."
   ],
   "metadata": {
    "collapsed": false
   }
  },
  {
   "cell_type": "code",
   "execution_count": null,
   "outputs": [],
   "source": [
    "plot_df = cc.describe( percentiles=[0.025, 0.5, 0.975] ).T\n",
    "plot_df = plot_df.loc[plot_df.index!=\"Other\"]\n",
    "plot_df = plot_df.sort_values( \"50%\" ).reset_index()\n",
    "for reg, states in regions.items():\n",
    "    plot_df.loc[plot_df[\"index\"].isin( states ),\"region\"] = reg\n",
    "plot_df.loc[plot_df[\"region\"].isna(),\"region\"] = plot_df.loc[plot_df[\"region\"].isna(),\"index\"]\n",
    "\n",
    "fig, ax = plt.subplots( dpi=200, figsize=(4,6) )\n",
    "for reg, df in plot_df.groupby( \"region\" ):\n",
    "    ax.scatter( df[\"50%\"], df.index, color=cmap_unsat[reg], s=70, zorder=10, edgecolor=\"black\", linewidth=1 )\n",
    "    ln = ax.hlines( df.index, df[\"2.5%\"], df[\"97.5%\"], zorder=5, color=cmap_unsat[reg], linewidth=3, alpha=0.5 )\n",
    "    ln.set_capstyle( \"round\" )\n",
    "ax.set_yticks(plot_df.index)\n",
    "ax.set_yticklabels( plot_df[\"index\"])\n",
    "\n",
    "for i in range(1,max(plot_df.index), 2):\n",
    "    ax.axhspan( i-0.5,i+0.5, color=\"black\", alpha=0.04, edgecolor=None, linewidth=0 )\n",
    "\n",
    "basic_formatting( ax, spines=[\"bottom\", \"left\"], which=\"x\", xlabel=\"Closeness centrality\", xlims=(0,1), ylims=(-0.5, plot_df.index.max() + 0.5 ), xsize=10, ysize=10 )\n",
    "\n",
    "plt.tight_layout()\n",
    "fig.savefig( snakemake.output.cc_figure )\n",
    "plt.show()"
   ],
   "metadata": {
    "collapsed": false
   }
  },
  {
   "cell_type": "markdown",
   "source": [
    "Next we plot each locations' total transition rate."
   ],
   "metadata": {
    "collapsed": false
   }
  },
  {
   "cell_type": "code",
   "execution_count": null,
   "outputs": [],
   "source": [
    "plot_df = rs.describe( percentiles=[0.025, 0.5, 0.975] ).T\n",
    "plot_df = plot_df.loc[plot_df.index!=\"Other\"]\n",
    "plot_df = plot_df.sort_values( \"50%\" ).reset_index()\n",
    "for reg, states in regions.items():\n",
    "    plot_df.loc[plot_df[\"index\"].isin( states ),\"region\"] = reg\n",
    "plot_df.loc[plot_df[\"region\"].isna(),\"region\"] = plot_df.loc[plot_df[\"region\"].isna(),\"index\"]\n",
    "\n",
    "fig, ax = plt.subplots( dpi=200, figsize=(4,6) )\n",
    "for reg, df in plot_df.groupby( \"region\" ):\n",
    "    ax.scatter( df[\"50%\"], df.index, color=cmap_unsat[reg], s=70, zorder=10, edgecolor=\"black\", linewidth=1 )\n",
    "    ln = ax.hlines( df.index, df[\"2.5%\"], df[\"97.5%\"], zorder=5, color=cmap_unsat[reg], linewidth=3, alpha=0.5 )\n",
    "    ln.set_capstyle( \"round\" )\n",
    "ax.set_yticks(plot_df.index)\n",
    "ax.set_yticklabels( plot_df[\"index\"])\n",
    "\n",
    "for i in range(1,max(plot_df.index), 2):\n",
    "    ax.axhspan( i-0.5,i+0.5, color=\"black\", alpha=0.04, edgecolor=None, linewidth=0 )\n",
    "\n",
    "basic_formatting( ax, spines=[\"bottom\", \"left\"], which=\"x\", xlabel=\"Total transition rate\", ylims=(-0.5, plot_df.index.max() + 0.5 ), xsize=10, ysize=10 )\n",
    "ax.set_xlim(0)\n",
    "\n",
    "plt.tight_layout()\n",
    "fig.savefig( snakemake.output.rates_figure )\n",
    "plt.show()"
   ],
   "metadata": {
    "collapsed": false
   }
  }
 ],
 "metadata": {
  "kernelspec": {
   "display_name": "Python 3",
   "language": "python",
   "name": "python3"
  },
  "language_info": {
   "codemirror_mode": {
    "name": "ipython",
    "version": 2
   },
   "file_extension": ".py",
   "mimetype": "text/x-python",
   "name": "python",
   "nbconvert_exporter": "python",
   "pygments_lexer": "ipython2",
   "version": "2.7.6"
  }
 },
 "nbformat": 4,
 "nbformat_minor": 0
}
