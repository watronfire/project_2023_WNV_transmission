{
 "cells": [
  {
   "cell_type": "code",
   "execution_count": null,
   "metadata": {
    "collapsed": true
   },
   "outputs": [],
   "source": [
    "import matplotlib.pyplot as plt\n",
    "import matplotlib.dates as mdates\n",
    "import matplotlib.cm as cm\n",
    "import matplotlib.colors as colors\n",
    "from utils import setup_plotting_standards, dec_to_date, get_black\n",
    "import baltic as bt\n",
    "import geopandas as gpd\n",
    "\n",
    "setup_plotting_standards()\n",
    "\n",
    "COLOR = get_black()"
   ]
  },
  {
   "cell_type": "markdown",
   "source": [
    "### Figure X. Maximum clade credibility tree\n",
    "Visualize the output MCC tree from our bayesian phylogeographic analysis."
   ],
   "metadata": {
    "collapsed": false
   }
  },
  {
   "cell_type": "markdown",
   "source": [
    "Load the US shapefile. We'll color taxa by their longitude"
   ],
   "metadata": {
    "collapsed": false
   }
  },
  {
   "cell_type": "code",
   "execution_count": null,
   "outputs": [],
   "source": [
    "us = gpd.read_file( snakemake.params.us_map )\n",
    "us = us[[\"NAME\", \"geometry\"]]\n",
    "us = us.loc[~us[\"NAME\"].isin([\"Alaska\", \"Hawaii\", \"Puerto Rico\"])]\n",
    "us = us.to_crs( \"EPSG:2163\" )\n",
    "us[\"NAME\"] = us[\"NAME\"].str.replace( \" \", \"\" )\n",
    "\n",
    "# Calculate color for each state\n",
    "us[\"longitude\"] = us[\"geometry\"].centroid.x\n",
    "cNorm  = colors.Normalize( vmin=us[\"longitude\"].min(), vmax=us[\"longitude\"].max() )\n",
    "smap_state = cm.ScalarMappable(norm=cNorm, cmap=cm.viridis )\n",
    "us[\"color\"] = us[\"longitude\"].apply( smap_state.to_rgba )\n",
    "us[\"color_hex\"] = us[\"color\"].apply( lambda x: \"#{:02x}{:02x}{:02x}\".format( int(x[0]*255), int(x[1]*255), int(x[2]*255)) )\n",
    "state_dict = us.set_index(\"NAME\")[\"color_hex\"].to_dict()\n",
    "state_dict[\"Other\"] = \"#A8A8A8\""
   ],
   "metadata": {
    "collapsed": false
   }
  },
  {
   "cell_type": "markdown",
   "source": [
    "Load the tree from file. I use baltic (H/t to @evogytis) because dendropy tends to mangle the tree otherwise. Tree was generated using TreeAnnotator, discarding the first 100 trees as the burn-in (see rule `beast_analysis.construct_mcc_tree`)."
   ],
   "metadata": {
    "collapsed": false
   }
  },
  {
   "cell_type": "code",
   "execution_count": null,
   "outputs": [],
   "source": [
    "t = bt.loadNexus( snakemake.input.tree )\n",
    "t.treeStats()"
   ],
   "metadata": {
    "collapsed": false
   }
  },
  {
   "cell_type": "markdown",
   "source": [
    "Plot the tree, labeling taxa by their longitude."
   ],
   "metadata": {
    "collapsed": false
   }
  },
  {
   "cell_type": "code",
   "execution_count": null,
   "outputs": [],
   "source": [
    "fig, ax = plt.subplots( dpi=200, figsize=(6.5,14.5) )\n",
    "x_attr = lambda k: mdates.date2num( dec_to_date( k.absoluteTime ) )\n",
    "c_func = lambda k: state_dict.get( k.name.split( \"|\" )[2].split( \"-\" )[0], state_dict[\"Other\"] )\n",
    "t.plotTree( ax, x_attr=x_attr, colour=state_dict[\"Other\"], linewidth=1 )\n",
    "t.plotPoints( ax, x_attr=x_attr, size=15, colour=c_func, zorder=100 )\n",
    "t.plotPoints( ax, x_attr=x_attr, target=lambda k : k.is_node() & (k.traits.get( \"posterior\", 0) > 0.5), color=COLOR, size=5 )\n",
    "\n",
    "ax.set_yticks([])\n",
    "ax.set_yticklabels([])\n",
    "ax.tick_params( axis=\"x\", bottom=False, which=\"both\", labelbottom=True, rotation=90, labelsize=10 )\n",
    "ax.xaxis.set_major_locator( mdates.YearLocator() )\n",
    "ax.xaxis.set_major_formatter( mdates.DateFormatter( '%Y' ) )\n",
    "\n",
    "ax.grid( which=\"both\", axis=\"x\", linewidth=1, color=\"#F1F1F1\", zorder=1 )\n",
    "[ax.spines[loc].set_visible(False) for loc in ax.spines]\n",
    "ax.set_ylim(-20,t.ySpan+5)\n",
    "\n",
    "plt.tight_layout()\n",
    "plt.savefig( snakemake.output.tree_figure )\n",
    "plt.show()"
   ],
   "metadata": {
    "collapsed": false
   }
  },
  {
   "cell_type": "markdown",
   "source": [
    "Plot the map legend"
   ],
   "metadata": {
    "collapsed": false
   }
  },
  {
   "cell_type": "code",
   "execution_count": null,
   "outputs": [],
   "source": [
    "plt.figure( dpi=200, figsize=(5,4) )\n",
    "ax = plt.subplot()\n",
    "us.plot( ax=ax, color=us[\"color_hex\"], zorder=1, edgecolor=\"white\", linewidth=1 )\n",
    "ax.get_xaxis().set_visible(False)\n",
    "ax.get_yaxis().set_visible(False)\n",
    "[ax.spines[j].set_visible(False) for j in ax.spines]\n",
    "\n",
    "plt.tight_layout()\n",
    "plt.savefig( snakemake.output.tree_legend )\n",
    "plt.show()"
   ],
   "metadata": {
    "collapsed": false
   }
  }
 ],
 "metadata": {
  "kernelspec": {
   "display_name": "Python 3",
   "language": "python",
   "name": "python3"
  },
  "language_info": {
   "codemirror_mode": {
    "name": "ipython",
    "version": 2
   },
   "file_extension": ".py",
   "mimetype": "text/x-python",
   "name": "python",
   "nbconvert_exporter": "python",
   "pygments_lexer": "ipython2",
   "version": "2.7.6"
  }
 },
 "nbformat": 4,
 "nbformat_minor": 0
}
