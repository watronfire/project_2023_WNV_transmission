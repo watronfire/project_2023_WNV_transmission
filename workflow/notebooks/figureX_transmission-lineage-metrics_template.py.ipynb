{
 "cells": [
  {
   "cell_type": "code",
   "execution_count": null,
   "metadata": {
    "collapsed": true
   },
   "outputs": [],
   "source": [
    "import pandas as pd\n",
    "import matplotlib.pyplot as plt\n",
    "from utils import plot_horizontal_ballline_plot, setup_plotting_standards\n",
    "\n",
    "setup_plotting_standards()\n",
    "\n",
    "cmap = {\n",
    "    \"South\" : \"#e41a1c\",\n",
    "    \"Midwest\" : \"#377eb8\",\n",
    "    \"NorthEast\" : \"#4daf4a\",\n",
    "    \"West\" : \"#984ea3\",\n",
    "}"
   ]
  },
  {
   "cell_type": "markdown",
   "source": [
    "### Figure X. Transmission lineage characteristics are different in the Eastern and Western US.\n",
    "Using the discrete state reconstructions, we determined whether geographic clustering has affected transmission dynamics."
   ],
   "metadata": {
    "collapsed": false
   }
  },
  {
   "cell_type": "markdown",
   "source": [
    "First we load in the transmission lineages. These were calculated as part rule `beast_analysis.identify_transmission_lineages`. Briefly, we follow Du Plessis et al. 2020 in defining transmission lineages as two or more taxa belonging to the same state descend from a shared, single importation of the virus into the state from any other state."
   ],
   "metadata": {
    "collapsed": false
   }
  },
  {
   "cell_type": "code",
   "execution_count": null,
   "outputs": [],
   "source": [
    "tl = pd.read_csv( snakemake.input.transmission_lineages )\n",
    "\n",
    "print( f\"{tl.shape[0]} lineages found.\" )\n",
    "print( f\"{tl.loc[tl['children']>1].shape[0]} non-singleton lineages found.\")\n",
    "print()\n",
    "\n",
    "tlong = tl.loc[tl['children']>1].copy()\n",
    "tlong[\"length\"] = tlong[\"latest_date\"] - tlong[\"height\"]\n",
    "\n",
    "tlong.head()"
   ],
   "metadata": {
    "collapsed": false
   }
  },
  {
   "cell_type": "markdown",
   "source": [
    "Here we plot the median number of transmission lineages for each state. This generates figure X."
   ],
   "metadata": {
    "collapsed": false
   }
  },
  {
   "cell_type": "code",
   "execution_count": null,
   "outputs": [],
   "source": [
    "plot_df = tlong.pivot_table( index=\"tree\", columns=\"Location\", values=\"par.Location\", aggfunc=\"count\" ).describe(percentiles=[0.025, 0.5, 0.975]).T\n",
    "fig, ax = plt.subplots( dpi=200, figsize=(4,6) )\n",
    "plot_horizontal_ballline_plot( ax, plot_df, cmap, xlims=(0,25), xlabel=\"Transmission lineages\", sortby=[\"50%\", \"97.5%\"] )\n",
    "plt.tight_layout()\n",
    "fig.savefig( snakemake.output.tl_count_figure )\n",
    "plt.show()"
   ],
   "metadata": {
    "collapsed": false
   }
  },
  {
   "cell_type": "markdown",
   "source": [
    "Here, we plot the median number of descendents for each states' transmission lineages. This generates figure X."
   ],
   "metadata": {
    "collapsed": false
   }
  },
  {
   "cell_type": "code",
   "execution_count": null,
   "outputs": [],
   "source": [
    "plot_df = tlong.groupby( \"Location\" )[\"children\"].describe( percentiles=[0.025, 0.5, 0.975])\n",
    "\n",
    "fig, ax = plt.subplots( dpi=200, figsize=(4,6) )\n",
    "plot_horizontal_ballline_plot( ax, plot_df, cmap, xlims=(1,1000), xlabel=\"Descendents\", sortby=[\"50%\", \"97.5%\"] )\n",
    "ax.set_xscale( \"log\" )\n",
    "ax.tick_params( axis=\"x\", direction=\"in\", which=\"both\", labelbottom=True, pad=3 )\n",
    "plt.tight_layout()\n",
    "fig.savefig( snakemake.output.tl_size_figure )\n",
    "plt.show()"
   ],
   "metadata": {
    "collapsed": false
   }
  },
  {
   "cell_type": "markdown",
   "source": [
    "Here we plot the median length of transmission lineages from each state. This generates figure X."
   ],
   "metadata": {
    "collapsed": false
   }
  },
  {
   "cell_type": "code",
   "execution_count": null,
   "outputs": [],
   "source": [
    "plot_df = tlong.groupby( \"Location\" )[\"length\"].describe( percentiles=[0.025, 0.5, 0.975])\n",
    "\n",
    "fig, ax = plt.subplots( dpi=200, figsize=(4,6) )\n",
    "plot_horizontal_ballline_plot( ax, plot_df, cmap, xlims=(0,17), xlabel=\"Length (years)\", sortby=[\"50%\"] )\n",
    "plt.tight_layout()\n",
    "fig.savefig( snakemake.output.tl_length_figure )\n",
    "plt.show()"
   ],
   "metadata": {
    "collapsed": false
   }
  },
  {
   "cell_type": "markdown",
   "source": [
    "#### Post-2002\n",
    "Dellicour et al. 2020 found that the dispersal of West Nile virus changed after it rapid expansion following its introduction in ~1999. Specifically, they found that the dispersal speed dropped after 2002 indicating the begining of geographic clustering. Consequently, the massive polytomy resulting from its early spread and its consistent assignment to New York and Connecticut, might be influencing our results. Thus, we compute the exact same graphs as above but only considering transmission lineages occuring after 2002."
   ],
   "metadata": {
    "collapsed": false
   }
  },
  {
   "cell_type": "code",
   "execution_count": null,
   "outputs": [],
   "source": [
    "tlong = tlong.loc[tlong[\"height\"]>2002]\n",
    "plot_df = tlong.pivot_table( index=\"tree\", columns=\"Location\", values=\"par.Location\", aggfunc=\"count\" ).describe(percentiles=[0.025, 0.5, 0.975]).T\n",
    "fig, ax = plt.subplots( dpi=200, figsize=(4,6) )\n",
    "plot_horizontal_ballline_plot( ax, plot_df, cmap, xlims=(0,20), xlabel=\"Transmission lineages\", sortby=[\"50%\", \"97.5%\"] )\n",
    "plt.tight_layout()\n",
    "fig.savefig( snakemake.output.tl_post_count_figure )\n",
    "plt.show()"
   ],
   "metadata": {
    "collapsed": false
   }
  },
  {
   "cell_type": "code",
   "execution_count": null,
   "outputs": [],
   "source": [
    "plot_df = tlong.groupby( \"Location\" )[\"children\"].describe( percentiles=[0.025, 0.5, 0.975])\n",
    "\n",
    "fig, ax = plt.subplots( dpi=200, figsize=(4,6) )\n",
    "plot_horizontal_ballline_plot( ax, plot_df, cmap, xlims=(1,1000), xlabel=\"Descendents\", sortby=[\"50%\", \"97.5%\"] )\n",
    "ax.set_xscale( \"log\" )\n",
    "ax.tick_params( axis=\"x\", direction=\"in\", which=\"both\", labelbottom=True, pad=3 )\n",
    "plt.tight_layout()\n",
    "fig.savefig( snakemake.output.tl_post_size_figure )\n",
    "plt.show()"
   ],
   "metadata": {
    "collapsed": false
   }
  },
  {
   "cell_type": "code",
   "execution_count": null,
   "outputs": [],
   "source": [
    "plot_df = tlong.groupby( \"Location\" )[\"length\"].describe( percentiles=[0.025, 0.5, 0.975])\n",
    "\n",
    "fig, ax = plt.subplots( dpi=200, figsize=(4,6) )\n",
    "plot_horizontal_ballline_plot( ax, plot_df, cmap, xlims=(0,15), xlabel=\"Length (years)\", sortby=[\"50%\"] )\n",
    "plt.tight_layout()\n",
    "fig.savefig( snakemake.output.tl_post_length_figure )\n",
    "plt.show()"
   ],
   "metadata": {
    "collapsed": false
   }
  }
 ],
 "metadata": {
  "kernelspec": {
   "display_name": "Python 3",
   "language": "python",
   "name": "python3"
  },
  "language_info": {
   "codemirror_mode": {
    "name": "ipython",
    "version": 2
   },
   "file_extension": ".py",
   "mimetype": "text/x-python",
   "name": "python",
   "nbconvert_exporter": "python",
   "pygments_lexer": "ipython2",
   "version": "2.7.6"
  }
 },
 "nbformat": 4,
 "nbformat_minor": 0
}
